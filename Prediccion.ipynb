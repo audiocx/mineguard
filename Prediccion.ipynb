{
 "cells": [
  {
   "cell_type": "markdown",
   "id": "022a0f2f-c05a-47ba-bec3-2bc2b2bea8fc",
   "metadata": {},
   "source": [
    "## MineGuard\n"
   ]
  },
  {
   "cell_type": "markdown",
   "id": "076c4f21-5dcb-4d9e-bde2-124036988657",
   "metadata": {},
   "source": [
    "## Configuración de PlaidML (SOLO EJECUTAR UNA VEZ LUEGO IGNORAR)"
   ]
  },
  {
   "cell_type": "code",
   "execution_count": 1,
   "id": "dcf4c655-c647-430e-85e4-7b0c050976f1",
   "metadata": {},
   "outputs": [],
   "source": [
    "import os\n",
    "os.environ[\"KERAS_BACKEND\"] = \"plaidml.keras.backend\"\n",
    "\n",
    "import plaidml.keras\n",
    "plaidml.keras.install_backend()"
   ]
  },
  {
   "cell_type": "markdown",
   "id": "089a1982-e92a-4f74-9e26-4f4750cd976d",
   "metadata": {},
   "source": [
    "# 2"
   ]
  },
  {
   "cell_type": "code",
   "execution_count": 2,
   "id": "b77a4f2e-b3b6-4772-8d32-520466c32722",
   "metadata": {},
   "outputs": [],
   "source": [
    "import os\n",
    "import numpy as np\n",
    "import pandas as pd\n",
    "from sklearn.model_selection import train_test_split\n",
    "from sklearn.preprocessing import StandardScaler\n",
    "from keras.models import Sequential\n",
    "from keras.layers import Dense"
   ]
  },
  {
   "cell_type": "code",
   "execution_count": 3,
   "id": "ceb4f982-2a74-465c-9648-49d2a07233bc",
   "metadata": {},
   "outputs": [],
   "source": [
    "\n",
    "# Ruta a la carpeta que contiene los archivos CSV\n",
    "folder_path = \"C:\\\\Users\\\\Critoldddaadb\\\\Desktop\\\\Feria\\\\Datos\"\n",
    "\n",
    "# Lista para almacenar los datos de todos los archivos CSV\n",
    "all_data = []\n",
    "\n",
    "# Leer y combinar todos los archivos CSV\n",
    "for filename in os.listdir(folder_path):\n",
    "    if filename.endswith(\".csv\"):\n",
    "        file_path = os.path.join(folder_path, filename)\n",
    "        data = pd.read_csv(file_path)\n",
    "        all_data.append(data)\n",
    "\n",
    "# Combinar todos los datos en un solo DataFrame\n",
    "combined_data = pd.concat(all_data, ignore_index=True)\n",
    "\n",
    "# Seleccionar las columnas relevantes\n",
    "components = [\n",
    "    'Engine Speed[rpm]',\n",
    "    'Engine Coolant Temperature[deg C]',\n",
    "    'Engine oil Pressure[kPa]',\n",
    "    'SMR[h]',\n",
    "    'RunningDistance[m]',\n",
    "    'Fuel Rate[L/h]',\n",
    "    'DC Power[kW]',\n",
    "    'DC Bus Voltage[V]',\n",
    "    'Motor A o/p Power MS[kW]',\n",
    "    'Motor B o/p Power MS[kW]'\n",
    "]\n",
    "\n",
    "# Limpiar los datos combinados (asumiendo que el tiempo hasta el próximo mantenimiento no está presente y se necesita generar)\n",
    "combined_data_cleaned = combined_data.dropna(subset=components)\n"
   ]
  },
  {
   "cell_type": "code",
   "execution_count": 4,
   "id": "f72f6323-c9ae-4419-bab8-57a78c479e3a",
   "metadata": {},
   "outputs": [],
   "source": [
    "# Generar más datos sintéticos variados que representen diferentes escenarios críticos\n",
    "def generate_more_failure_data(num_samples=10000):\n",
    "    data = {\n",
    "        'Engine Speed[rpm]': [],\n",
    "        'Engine Coolant Temperature[deg C]': [],\n",
    "        'Engine oil Pressure[kPa]': [],\n",
    "        'SMR[h]': [],\n",
    "        'RunningDistance[m]': [],\n",
    "        'Fuel Rate[L/h]': [],\n",
    "        'DC Power[kW]': [],\n",
    "        'DC Bus Voltage[V]': [],\n",
    "        'Motor A o/p Power MS[kW]': [],\n",
    "        'Motor B o/p Power MS[kW]': [],\n",
    "        'time_to_failure': []\n",
    "    }\n",
    "    \n",
    "    # Generar datos para fallas de sobrecalentamiento\n",
    "    for _ in range(num_samples // 4):\n",
    "        data['Engine Speed[rpm]'].append(np.random.uniform(5000, 9000))\n",
    "        data['Engine Coolant Temperature[deg C]'].append(np.random.uniform(150, 300))\n",
    "        data['Engine oil Pressure[kPa]'].append(np.random.uniform(50, 200))\n",
    "        data['SMR[h]'].append(np.random.uniform(10000, 40000))\n",
    "        data['RunningDistance[m]'].append(np.random.uniform(500000, 2000000))\n",
    "        data['Fuel Rate[L/h]'].append(np.random.uniform(50, 250))\n",
    "        data['DC Power[kW]'].append(np.random.uniform(200, 1000))\n",
    "        data['DC Bus Voltage[V]'].append(np.random.uniform(800, 2000))\n",
    "        data['Motor A o/p Power MS[kW]'].append(np.random.uniform(150, 600))\n",
    "        data['Motor B o/p Power MS[kW]'].append(np.random.uniform(150, 600))\n",
    "        data['time_to_failure'].append(np.random.uniform(1, 15))\n",
    "    \n",
    "    # Generar datos para fallas de baja presión de aceite\n",
    "    for _ in range(num_samples // 4):\n",
    "        data['Engine Speed[rpm]'].append(np.random.uniform(5000, 9000))\n",
    "        data['Engine Coolant Temperature[deg C]'].append(np.random.uniform(80, 100))\n",
    "        data['Engine oil Pressure[kPa]'].append(np.random.uniform(1, 50))\n",
    "        data['SMR[h]'].append(np.random.uniform(10000, 40000))\n",
    "        data['RunningDistance[m]'].append(np.random.uniform(500000, 2000000))\n",
    "        data['Fuel Rate[L/h]'].append(np.random.uniform(50, 250))\n",
    "        data['DC Power[kW]'].append(np.random.uniform(200, 1000))\n",
    "        data['DC Bus Voltage[V]'].append(np.random.uniform(800, 2000))\n",
    "        data['Motor A o/p Power MS[kW]'].append(np.random.uniform(150, 600))\n",
    "        data['Motor B o/p Power MS[kW]'].append(np.random.uniform(150, 600))\n",
    "        data['time_to_failure'].append(np.random.uniform(1, 15))\n",
    "    \n",
    "    # Generar datos para fallas de alto consumo de combustible\n",
    "    for _ in range(num_samples // 4):\n",
    "        data['Engine Speed[rpm]'].append(np.random.uniform(5000, 9000))\n",
    "        data['Engine Coolant Temperature[deg C]'].append(np.random.uniform(80, 300))\n",
    "        data['Engine oil Pressure[kPa]'].append(np.random.uniform(50, 200))\n",
    "        data['SMR[h]'].append(np.random.uniform(10000, 40000))\n",
    "        data['RunningDistance[m]'].append(np.random.uniform(500000, 2000000))\n",
    "        data['Fuel Rate[L/h]'].append(np.random.uniform(100, 250))\n",
    "        data['DC Power[kW]'].append(np.random.uniform(200, 1000))\n",
    "        data['DC Bus Voltage[V]'].append(np.random.uniform(800, 2000))\n",
    "        data['Motor A o/p Power MS[kW]'].append(np.random.uniform(150, 600))\n",
    "        data['Motor B o/p Power MS[kW]'].append(np.random.uniform(150, 600))\n",
    "        data['time_to_failure'].append(np.random.uniform(1, 15))\n",
    "    \n",
    "    # Generar datos para fallas del sistema eléctrico\n",
    "    for _ in range(num_samples // 4):\n",
    "        data['Engine Speed[rpm]'].append(np.random.uniform(5000, 9000))\n",
    "        data['Engine Coolant Temperature[deg C]'].append(np.random.uniform(80, 300))\n",
    "        data['Engine oil Pressure[kPa]'].append(np.random.uniform(50, 200))\n",
    "        data['SMR[h]'].append(np.random.uniform(10000, 40000))\n",
    "        data['RunningDistance[m]'].append(np.random.uniform(500000, 2000000))\n",
    "        data['Fuel Rate[L/h]'].append(np.random.uniform(50, 250))\n",
    "        data['DC Power[kW]'].append(np.random.uniform(400, 1000))\n",
    "        data['DC Bus Voltage[V]'].append(np.random.uniform(1000, 2000))\n",
    "        data['Motor A o/p Power MS[kW]'].append(np.random.uniform(150, 600))\n",
    "        data['Motor B o/p Power MS[kW]'].append(np.random.uniform(150, 600))\n",
    "        data['time_to_failure'].append(np.random.uniform(1, 15))\n",
    "    \n",
    "    return pd.DataFrame(data)\n",
    "\n",
    "# Generar más datos sintéticos\n",
    "more_synthetic_data = generate_more_failure_data(num_samples=10000)\n"
   ]
  },
  {
   "cell_type": "code",
   "execution_count": 5,
   "id": "452ce264-7818-4ef9-b26b-39505bc6d4c4",
   "metadata": {},
   "outputs": [],
   "source": [
    "# Añadir columna 'time_to_failure' a los datos originales\n",
    "combined_data_cleaned['time_to_failure'] = np.random.uniform(20, 80, size=len(combined_data_cleaned))\n",
    "\n",
    "# Combinar datos sintéticos críticos con datos originales\n",
    "combined_data_with_more_failures = pd.concat([combined_data_cleaned, more_synthetic_data], ignore_index=True)\n",
    "\n"
   ]
  },
  {
   "cell_type": "code",
   "execution_count": 6,
   "id": "a8df5141-0032-43f8-a1ab-e5862eb1f087",
   "metadata": {},
   "outputs": [
    {
     "name": "stderr",
     "output_type": "stream",
     "text": [
      "INFO:plaidml:Opening device \"opencl_amd_gfx1032.0\"\n"
     ]
    },
    {
     "name": "stdout",
     "output_type": "stream",
     "text": [
      "Train on 870696 samples, validate on 217675 samples\n",
      "Epoch 1/20\n",
      "870696/870696 [==============================] - 33s 38us/step - loss: 374.8812 - val_loss: 297.4748\n",
      "Epoch 2/20\n",
      "870696/870696 [==============================] - 25s 29us/step - loss: 298.2756 - val_loss: 297.0767\n",
      "Epoch 3/20\n",
      "870696/870696 [==============================] - 24s 28us/step - loss: 298.0205 - val_loss: 297.6508\n",
      "Epoch 4/20\n",
      "870696/870696 [==============================] - 24s 28us/step - loss: 297.9812 - val_loss: 297.4066\n",
      "Epoch 5/20\n",
      "870696/870696 [==============================] - 25s 28us/step - loss: 297.8524 - val_loss: 297.3739\n",
      "Epoch 6/20\n",
      "870696/870696 [==============================] - 23s 26us/step - loss: 297.8504 - val_loss: 296.9040\n",
      "Epoch 7/20\n",
      "870696/870696 [==============================] - 23s 27us/step - loss: 297.8507 - val_loss: 296.9333\n",
      "Epoch 8/20\n",
      "870696/870696 [==============================] - 24s 27us/step - loss: 297.7950 - val_loss: 296.8589\n",
      "Epoch 9/20\n",
      "870696/870696 [==============================] - 23s 26us/step - loss: 297.8141 - val_loss: 297.9162\n",
      "Epoch 10/20\n",
      "870696/870696 [==============================] - 23s 26us/step - loss: 297.7739 - val_loss: 297.2338\n",
      "Epoch 11/20\n",
      "870696/870696 [==============================] - 23s 27us/step - loss: 297.7768 - val_loss: 297.0042\n",
      "Epoch 12/20\n",
      "870696/870696 [==============================] - 23s 27us/step - loss: 297.7310 - val_loss: 296.7837\n",
      "Epoch 13/20\n",
      "870696/870696 [==============================] - 23s 26us/step - loss: 297.7234 - val_loss: 298.7533\n",
      "Epoch 14/20\n",
      "870696/870696 [==============================] - 23s 26us/step - loss: 297.7411 - val_loss: 296.8189\n",
      "Epoch 15/20\n",
      "870696/870696 [==============================] - 23s 26us/step - loss: 297.7531 - val_loss: 296.8260\n",
      "Epoch 16/20\n",
      "870696/870696 [==============================] - 23s 26us/step - loss: 297.7156 - val_loss: 296.6737\n",
      "Epoch 17/20\n",
      "870696/870696 [==============================] - 23s 26us/step - loss: 297.7037 - val_loss: 296.8370\n",
      "Epoch 18/20\n",
      "870696/870696 [==============================] - 22s 26us/step - loss: 297.7239 - val_loss: 296.7480\n",
      "Epoch 19/20\n",
      "870696/870696 [==============================] - 23s 26us/step - loss: 297.6956 - val_loss: 296.6405\n",
      "Epoch 20/20\n",
      "870696/870696 [==============================] - 23s 26us/step - loss: 297.6502 - val_loss: 296.6980\n",
      "217675/217675 [==============================] - 12s 57us/step\n",
      "Loss: 296.6980440495917\n"
     ]
    }
   ],
   "source": [
    "from sklearn.model_selection import train_test_split\n",
    "from sklearn.preprocessing import StandardScaler\n",
    "from keras.models import Sequential\n",
    "from keras.layers import Dense\n",
    "\n",
    "# Preprocesar los datos combinados\n",
    "X_combined = combined_data_with_more_failures[components]\n",
    "y_combined = combined_data_with_more_failures['time_to_failure']\n",
    "\n",
    "# División de los datos en conjuntos de entrenamiento y prueba\n",
    "X_train_combined, X_test_combined, y_train_combined, y_test_combined = train_test_split(X_combined, y_combined, test_size=0.2, random_state=42)\n",
    "\n",
    "# Escalado de las características\n",
    "scaler_combined = StandardScaler()\n",
    "X_train_combined = scaler_combined.fit_transform(X_train_combined)\n",
    "X_test_combined = scaler_combined.transform(X_test_combined)\n",
    "\n",
    "# Convertir a arrays de NumPy\n",
    "X_train_combined = np.array(X_train_combined)\n",
    "X_test_combined = np.array(X_test_combined)\n",
    "y_train_combined = np.array(y_train_combined)\n",
    "y_test_combined = np.array(y_test_combined)\n",
    "\n",
    "# Definir y entrenar el modelo con datos combinados\n",
    "model_combined = Sequential()\n",
    "model_combined.add(Dense(64, input_dim=len(components), activation='relu'))\n",
    "model_combined.add(Dense(32, activation='relu'))\n",
    "model_combined.add(Dense(1))  # Salida de una sola neurona para regresión\n",
    "\n",
    "# Compilar el modelo\n",
    "model_combined.compile(optimizer='adam', loss='mean_squared_error')\n",
    "\n",
    "# Entrenar el modelo\n",
    "model_combined.fit(X_train_combined, y_train_combined, epochs=20, batch_size=256, validation_data=(X_test_combined, y_test_combined))\n",
    "\n",
    "# Evaluar el modelo\n",
    "loss_combined = model_combined.evaluate(X_test_combined, y_test_combined)\n",
    "print(f'Loss: {loss_combined}')\n"
   ]
  },
  {
   "cell_type": "code",
   "execution_count": 26,
   "id": "14790698-d489-49a0-820b-cfe7b71b847b",
   "metadata": {},
   "outputs": [
    {
     "name": "stdout",
     "output_type": "stream",
     "text": [
      "Predicciones ajustadas de tiempo hasta el próximo mantenimiento (días): [[7.454404]\n",
      " [7.454404]\n",
      " [7.454404]]\n"
     ]
    }
   ],
   "source": [
    "# Datos ajustados para reducir el tiempo hasta el próximo mantenimiento con ajustes más extremos\n",
    "extreme_critical_data = pd.DataFrame({\n",
    "    'Engine Speed[rpm]': [9000, 9000, 9000],  # Velocidad del motor extremadamente alta\n",
    "    'Engine Coolant Temperature[deg C]': [300, 300, 300],  # Temperatura del refrigerante peligrosamente alta\n",
    "    'Engine oil Pressure[kPa]': [1, 1, 1],  # Presión de aceite casi nula\n",
    "    'SMR[h]': [40000, 40000, 40000],  # Cantidad extremadamente alta de horas de operación\n",
    "    'RunningDistance[m]': [2000000, 2000000, 2000000],  # Distancia recorrida extremadamente alta\n",
    "    'Fuel Rate[L/h]': [250, 250, 250],  # Consumo de combustible extremadamente alto\n",
    "    'DC Power[kW]': [1000, 1000, 1000],  # Potencia DC extremadamente alta\n",
    "    'DC Bus Voltage[V]': [2000, 2000, 2000],  # Voltaje del bus DC extremadamente alto\n",
    "    'Motor A o/p Power MS[kW]': [600, 600, 600],  # Potencia de salida del motor A extremadamente alta\n",
    "    'Motor B o/p Power MS[kW]': [600, 600, 600]   # Potencia de salida del motor B extremadamente alta\n",
    "})\n",
    "\n",
    "# Escalado de los datos ajustados\n",
    "extreme_critical_data_scaled = scaler_combined.transform(extreme_critical_data)\n",
    "\n",
    "# Predicción del tiempo hasta el próximo mantenimiento con datos ajustados\n",
    "extreme_critical_predictions = model_combined.predict(extreme_critical_data_scaled)\n",
    "print(\"Predicciones ajustadas de tiempo hasta el próximo mantenimiento (días):\", extreme_critical_predictions)\n"
   ]
  },
  {
   "cell_type": "code",
   "execution_count": 27,
   "id": "372d04ff-6798-4d3b-8559-07d43d808410",
   "metadata": {},
   "outputs": [
    {
     "name": "stdout",
     "output_type": "stream",
     "text": [
      "Predicciones ajustadas de tiempo hasta el próximo mantenimiento (días): [[7.912881]\n",
      " [7.912881]\n",
      " [7.912881]]\n"
     ]
    }
   ],
   "source": [
    "# Datos ajustados para el escenario de falla de baja presión de aceite\n",
    "oil_pressure_failure_data = pd.DataFrame({\n",
    "    'Engine Speed[rpm]': [6000, 6000, 6000],  # Velocidad del motor alta\n",
    "    'Engine Coolant Temperature[deg C]': [90, 90, 90],  # Temperatura del refrigerante normal\n",
    "    'Engine oil Pressure[kPa]': [10, 10, 10],  # Presión de aceite muy baja\n",
    "    'SMR[h]': [20000, 20000, 20000],  # Alta cantidad de horas de operación\n",
    "    'RunningDistance[m]': [1200000, 1200000, 1200000],  # Alta distancia recorrida\n",
    "    'Fuel Rate[L/h]': [60, 60, 60],  # Consumo de combustible normal\n",
    "    'DC Power[kW]': [500, 500, 500],  # Alta potencia DC\n",
    "    'DC Bus Voltage[V]': [1100, 1100, 1100],  # Alto voltaje del bus DC\n",
    "    'Motor A o/p Power MS[kW]': [350, 350, 350],  # Alta potencia de salida del motor A\n",
    "    'Motor B o/p Power MS[kW]': [350, 350, 350]   # Alta potencia de salida del motor B\n",
    "})\n",
    "\n",
    "# Escalado de los datos ajustados\n",
    "oil_pressure_failure_data_scaled = scaler_combined.transform(oil_pressure_failure_data)\n",
    "\n",
    "# Predicción del tiempo hasta el próximo mantenimiento con datos ajustados\n",
    "oil_pressure_failure_predictions = model_combined.predict(oil_pressure_failure_data_scaled)\n",
    "print(\"Predicciones ajustadas de tiempo hasta el próximo mantenimiento (días):\", oil_pressure_failure_predictions)\n"
   ]
  },
  {
   "cell_type": "markdown",
   "id": "e7211ded-f948-460e-8345-4c1c71e2caa9",
   "metadata": {},
   "source": [
    "# Datos de claudio"
   ]
  },
  {
   "cell_type": "code",
   "execution_count": 17,
   "id": "30be32ba-2392-4412-8146-8ebf44e0965e",
   "metadata": {},
   "outputs": [],
   "source": [
    "data_extracted = {\n",
    "    'Engine Speed[rpm]': [359.4097486347555, 747.1522898134267, 465.1127519646371, 1762.9012336356423, 1313.4401604435043, 377.59206322802015, 1879.7983028233048, 364.98102592293947, 1595.1806902058463, 1738.6129010728048, 1704.3936010106584, 185.98782775881435, 1418.2175462715854, 114.50457884613995, 163.47634385230003, 1434.0513264367562, 595.8041264091934, 545.0502552116134, 62.33789962896772, 839.7133516018902, 1694.4361931841477],\n",
    "    'Engine Coolant Temperature[deg C]': [-0.583892721009093, 1.3377882689484935, -24.75546333060522, -39.80943032293493, -27.301648688383377, -21.118260149113745, 25.1908657027749, 89.51465969984073, 9.53829197310435, -36.905867382558206, 13.68390264954077, 76.62518732226205, 4.7455925931162, -5.645257187935627, -28.056111513701154, 87.06431099576695, 81.82617187367981, 81.096726576966, 15.87602507945995, 37.73356139320775, 54.424084489160904],\n",
    "    'Engine oil Pressure[kPa]': [613.8008430829314, 423.9167828116399, 235.19382696847651, 560.0602401642701, 251.6246864200094, 221.9789042689475, 231.80966800494323, 637.9824892759391, 345.7016467106875, 532.2189203542696, 233.02794607055398, 96.5920772203098, 130.98551826775596, 669.8874239191302, 677.3708316306102, 436.5491780799674, 290.93887057155524, 608.4886872783887, 628.3833298561475, 298.70474806232517, 618.4998306658398],\n",
    "    'SMR[h]': [21967.14938457152, 21804.21630413638, 21777.96707156518, 22027.003037176644, 21820.99626932363, 21815.59241365331, 21937.79622257654, 21928.59604942521, 21866.27015155136, 21976.465087463075, 22011.90511631972, 21904.14611511397, 21845.573697433018, 21822.60311197966, 21937.914770760577, 21806.919098565155, 21749.056533070274, 21838.46430911229, 21844.329227215785, 21991.69219036498, 21856.13192590846],\n",
    "    'RunningDistance[m]': [12864.879580340197, 5729.761590294776, 15992.235813916552, 9822.885754244533, 8065.10596553263, 12693.536798974366, 12186.864641181632, 11626.707266690997, 11770.909296185228, 17202.293213662808, 15034.624097969725, 373.07308535254043, 16018.750555578765, 739.9079766151382, 9240.849452312485, 9663.98277436753, 12176.669363096267, 16779.160558888194, 10623.48754514329, 10998.395521149638, 3005.261248125774],\n",
    "    'Fuel Rate[L/h]': [541.3759920356523, 726.1958395775779, 211.97113313533652, 835.4673933143802, 423.0573306573382, 6.2192320982814255, 119.23722142290102, 884.5804199210888, 84.11569095174907, 570.2079926357437, 437.8720144089311, 648.4169773367042, 752.6525032431098, 494.57906297753186, 849.4516865354453, 384.24889413178767, 699.1884046310075, 540.7508050953678, 190.6596101384627, 800.3482193987318, 475.902522665951],\n",
    "    'DC Power[kW]': [2907.454506769985, 2489.9681310361234, 1528.7844432094294, 1660.9604985606375, 1162.3002814715903, 3146.129313009494, 3557.2551872708823, 3894.888335441773, 1560.2196646965565, 1854.9330144939524, 2116.097524105329, 308.50959734483314, 91.12694218860798, 2649.518777862115, 4685.689674457334, 2414.3532693113407, 2953.9913635399857, 2051.901949971423, 4448.44563060333, 853.4401157553308, 4192.91651580596],\n",
    "    'DC Bus Voltage[V]': [1476.5548420605576, 133.08071143839484, 973.3988372652908, 1394.8008201478367, 496.6659944349803, 995.4593926824716, 118.10446796358013, 884.4140689794159, 284.98302667950855, 297.8422119722937, 252.79528047898629, 1027.5502147076556, 387.6715734391909, 118.64798339796442, 658.3363070236577, 149.0835906392608, 1244.8056565302609, 425.15200974918497, 1535.1392342990362, 1154.6927328887623, 1075.7175087208986],\n",
    "    'Motor A o/p Power MS[kW]': [2200.0743588339315, 1166.284837811728, 1474.676635942749, 714.4753786802709, 1445.0659176644906, 1672.3788710597055, 573.1333915747052, 1459.8820066801015, 964.8151814421453, 2045.0630228087857, 967.1451525692719, 1096.3608009311788, 396.240538767075, 323.9546497442923, 2296.658878334109, 1556.2528275932184, 153.56412040101455, 849.236711431336, 397.85921620358675, 813.2526764720964, 1987.4932450917875],\n",
    "    'Motor B o/p Power MS[kW]': [1864.1585310356743, 2382.434608267792, 1979.0067237644726, 1020.7753139374045, 1913.4992148101344, 541.2812024998643, 844.347788983474, 1391.1239484641305, 2071.015890108021, 1397.422156141107, 352.80384342075695, 306.55862845860366, 2007.6652051497083, 1573.3042789999633, 675.8443410476078, 2183.6185227328974, 2375.3953559966276, 945.865815226457, 2045.0659848582104, 139.60834992075047, 2153.781554589746]\n",
    "}\n",
    "# Convertir a DataFrame\n",
    "df_truck_data = pd.DataFrame(data_extracted)\n"
   ]
  },
  {
   "cell_type": "code",
   "execution_count": 18,
   "id": "74dba291-bc46-4f14-989a-62431c088937",
   "metadata": {},
   "outputs": [
    {
     "name": "stdout",
     "output_type": "stream",
     "text": [
      "Predicciones ajustadas de tiempo hasta el próximo mantenimiento (días): [[49.806244]\n",
      " [56.189934]\n",
      " [46.171555]\n",
      " [45.8117  ]\n",
      " [48.822495]\n",
      " [49.08775 ]\n",
      " [53.24016 ]\n",
      " [53.794193]\n",
      " [50.34517 ]\n",
      " [51.294624]\n",
      " [48.02932 ]\n",
      " [49.034355]\n",
      " [49.86499 ]\n",
      " [50.48227 ]\n",
      " [53.906586]\n",
      " [54.537693]\n",
      " [50.74592 ]\n",
      " [50.660545]\n",
      " [48.549995]\n",
      " [46.701614]\n",
      " [52.91248 ]]\n"
     ]
    }
   ],
   "source": [
    "df_truck_data_scaled = scaler_combined.transform(df_truck_data)\n",
    "\n",
    "# Realizar predicciones con el modelo previamente entrenado\n",
    "predictions = model_combined.predict(df_truck_data_scaled)\n",
    "print(\"Predicciones ajustadas de tiempo hasta el próximo mantenimiento (días):\", predictions)"
   ]
  },
  {
   "cell_type": "code",
   "execution_count": 22,
   "id": "9c2cdf66-3271-42f3-8bd7-71b8e3306397",
   "metadata": {
    "scrolled": true
   },
   "outputs": [],
   "source": [
    "import pandas as pd\n",
    "import numpy as np\n",
    "\n",
    "# Generar datos similares para 20 camiones\n",
    "np.random.seed(42)  # Para reproducibilidad\n",
    "\n",
    "data = {\n",
    "    'Engine Speed[rpm]': np.random.normal(loc=6000, scale=100, size=20),  # Velocidad del motor alta\n",
    "    'Engine Coolant Temperature[deg C]': np.random.normal(loc=90, scale=5, size=20),  # Temperatura del refrigerante normal\n",
    "    'Engine oil Pressure[kPa]': np.random.normal(loc=10, scale=2, size=20),  # Presión de aceite muy baja\n",
    "    'SMR[h]': np.random.normal(loc=20000, scale=500, size=20),  # Alta cantidad de horas de operación\n",
    "    'RunningDistance[m]': np.random.normal(loc=1200000, scale=50000, size=20),  # Alta distancia recorrida\n",
    "    'Fuel Rate[L/h]': np.random.normal(loc=60, scale=5, size=20),  # Consumo de combustible normal\n",
    "    'DC Power[kW]': np.random.normal(loc=500, scale=50, size=20),  # Alta potencia DC\n",
    "    'DC Bus Voltage[V]': np.random.normal(loc=1100, scale=50, size=20),  # Alto voltaje del bus DC\n",
    "    'Motor A o/p Power MS[kW]': np.random.normal(loc=350, scale=20, size=20),  # Alta potencia de salida del motor A\n",
    "    'Motor B o/p Power MS[kW]': np.random.normal(loc=350, scale=20, size=20)   # Alta potencia de salida del motor B\n",
    "}\n",
    "\n",
    "# Convertir a DataFrame\n",
    "similar_truck_data = pd.DataFrame(data)\n",
    "\n"
   ]
  },
  {
   "cell_type": "code",
   "execution_count": 23,
   "id": "9dadd6d5-3270-40f3-bd8a-e8718e35d903",
   "metadata": {},
   "outputs": [
    {
     "name": "stdout",
     "output_type": "stream",
     "text": [
      "Predicciones ajustadas de tiempo hasta el próximo mantenimiento (días): [[7.906233 ]\n",
      " [7.9308643]\n",
      " [7.9246273]\n",
      " [7.9586782]\n",
      " [7.907776 ]\n",
      " [7.9132395]\n",
      " [7.889632 ]\n",
      " [7.82164  ]\n",
      " [7.9443893]\n",
      " [7.954834 ]\n",
      " [7.9202805]\n",
      " [7.8521013]\n",
      " [7.881238 ]\n",
      " [7.936945 ]\n",
      " [7.9428816]\n",
      " [7.9384527]\n",
      " [7.93839  ]\n",
      " [7.9531193]\n",
      " [7.9487696]\n",
      " [7.925826 ]]\n"
     ]
    }
   ],
   "source": [
    "df_truck_data_scaled = scaler_combined.transform(similar_truck_data)\n",
    "\n",
    "# Realizar predicciones con el modelo previamente entrenado\n",
    "predictions = model_combined.predict(df_truck_data_scaled)\n",
    "print(\"Predicciones ajustadas de tiempo hasta el próximo mantenimiento (días):\", predictions)"
   ]
  },
  {
   "cell_type": "code",
   "execution_count": 25,
   "id": "70c59905-1563-4c8c-804b-90d022424b9a",
   "metadata": {},
   "outputs": [
    {
     "name": "stdout",
     "output_type": "stream",
     "text": [
      "Predicciones ajustadas de tiempo hasta el próximo mantenimiento (días): [[7.9155903]\n",
      " [7.9355707]\n",
      " [7.946926 ]\n",
      " [7.9840918]\n",
      " [7.889929 ]\n",
      " [7.8829384]\n",
      " [7.8861217]\n",
      " [7.792432 ]\n",
      " [7.9379997]\n",
      " [7.9678373]\n",
      " [7.9146404]\n",
      " [7.8241377]\n",
      " [7.8812675]\n",
      " [7.9262857]\n",
      " [8.008529 ]\n",
      " [7.9194202]\n",
      " [7.9407845]\n",
      " [7.9580727]\n",
      " [7.954729 ]\n",
      " [7.9759693]]\n"
     ]
    }
   ],
   "source": [
    "import pandas as pd\n",
    "import numpy as np\n",
    "\n",
    "# Definir los componentes más relevantes\n",
    "components = [\n",
    "    'Engine Speed[rpm]',\n",
    "    'Engine Coolant Temperature[deg C]',\n",
    "    'Engine oil Pressure[kPa]',\n",
    "    'SMR[h]',\n",
    "    'RunningDistance[m]',\n",
    "    'Fuel Rate[L/h]',\n",
    "    'DC Power[kW]',\n",
    "    'DC Bus Voltage[V]',\n",
    "    'Motor A o/p Power MS[kW]',\n",
    "    'Motor B o/p Power MS[kW]'\n",
    "]\n",
    "\n",
    "# Generar 20 conjuntos de datos similares con variabilidad\n",
    "np.random.seed(42)  # Para reproducibilidad\n",
    "\n",
    "data = {\n",
    "    'Engine Speed[rpm]': np.random.normal(loc=6000, scale=200, size=20),  # Velocidad del motor alta\n",
    "    'Engine Coolant Temperature[deg C]': np.random.normal(loc=90, scale=5, size=20),  # Temperatura del refrigerante normal\n",
    "    'Engine oil Pressure[kPa]': np.random.normal(loc=10, scale=2, size=20),  # Presión de aceite muy baja\n",
    "    'SMR[h]': np.random.normal(loc=20000, scale=1000, size=20),  # Alta cantidad de horas de operación\n",
    "    'RunningDistance[m]': np.random.normal(loc=1200000, scale=50000, size=20),  # Alta distancia recorrida\n",
    "    'Fuel Rate[L/h]': np.random.normal(loc=60, scale=5, size=20),  # Consumo de combustible normal\n",
    "    'DC Power[kW]': np.random.normal(loc=500, scale=50, size=20),  # Alta potencia DC\n",
    "    'DC Bus Voltage[V]': np.random.normal(loc=1100, scale=50, size=20),  # Alto voltaje del bus DC\n",
    "    'Motor A o/p Power MS[kW]': np.random.normal(loc=350, scale=20, size=20),  # Alta potencia de salida del motor A\n",
    "    'Motor B o/p Power MS[kW]': np.random.normal(loc=350, scale=20, size=20)   # Alta potencia de salida del motor B\n",
    "}\n",
    "\n",
    "# Convertir a DataFrame\n",
    "generated_failure_data = pd.DataFrame(data)\n",
    "\n",
    "# Escalado de los datos generados\n",
    "generated_failure_data_scaled = scaler_combined.transform(generated_failure_data)\n",
    "\n",
    "# Predicción del tiempo hasta el próximo mantenimiento con los datos generados\n",
    "generated_failure_predictions = model_combined.predict(generated_failure_data_scaled)\n",
    "print(\"Predicciones ajustadas de tiempo hasta el próximo mantenimiento (días):\", generated_failure_predictions)\n"
   ]
  },
  {
   "cell_type": "code",
   "execution_count": 28,
   "id": "a42348c7-16b4-49b2-8d4b-4cf15025eb92",
   "metadata": {},
   "outputs": [
    {
     "name": "stdout",
     "output_type": "stream",
     "text": [
      "Modelo guardado en model_combined.h5\n"
     ]
    }
   ],
   "source": [
    "# Guardar el modelo entrenado\n",
    "model_combined.save(\"model_combined.h5\")\n",
    "print(\"Modelo guardado en model_combined.h5\")"
   ]
  },
  {
   "cell_type": "code",
   "execution_count": null,
   "id": "3fe14ba4-9819-4eb3-b629-aee97b0257bf",
   "metadata": {},
   "outputs": [],
   "source": []
  }
 ],
 "metadata": {
  "kernelspec": {
   "display_name": "Python 3 (ipykernel)",
   "language": "python",
   "name": "python3"
  },
  "language_info": {
   "codemirror_mode": {
    "name": "ipython",
    "version": 3
   },
   "file_extension": ".py",
   "mimetype": "text/x-python",
   "name": "python",
   "nbconvert_exporter": "python",
   "pygments_lexer": "ipython3",
   "version": "3.9.13"
  }
 },
 "nbformat": 4,
 "nbformat_minor": 5
}
